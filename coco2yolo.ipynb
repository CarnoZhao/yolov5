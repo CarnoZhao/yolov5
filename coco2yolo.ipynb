{
 "cells": [
  {
   "cell_type": "code",
   "execution_count": 4,
   "metadata": {},
   "outputs": [],
   "source": [
    "import os\n",
    "import glob\n",
    "import numpy as np\n",
    "import pandas as pd\n",
    "from pycocotools.coco import COCO\n",
    "from tqdm.auto import tqdm\n",
    "\n",
    "root = \"./datasets/reef/train\"\n",
    "root = os.path.abspath(root)\n",
    "os.system(f\"mkdir {root}/labels\")\n",
    "\n",
    "gts = glob.glob(os.path.join(root, \"annotations/fold_*.json\"))"
   ]
  },
  {
   "cell_type": "code",
   "execution_count": 9,
   "metadata": {},
   "outputs": [
    {
     "name": "stdout",
     "output_type": "stream",
     "text": [
      "loading annotations into memory...\n",
      "Done (t=0.01s)\n",
      "creating index...\n",
      "index created!\n"
     ]
    },
    {
     "data": {
      "application/vnd.jupyter.widget-view+json": {
       "model_id": "ddec8b521c25436c8f4a9ac01384ca98",
       "version_major": 2,
       "version_minor": 0
      },
      "text/plain": [
       "  0%|          | 0/4030 [00:00<?, ?it/s]"
      ]
     },
     "metadata": {},
     "output_type": "display_data"
    },
    {
     "name": "stdout",
     "output_type": "stream",
     "text": [
      "loading annotations into memory...\n",
      "Done (t=0.02s)\n",
      "creating index...\n",
      "index created!\n"
     ]
    },
    {
     "data": {
      "application/vnd.jupyter.widget-view+json": {
       "model_id": "5c06611a16f74b4299f6bfa9825674df",
       "version_major": 2,
       "version_minor": 0
      },
      "text/plain": [
       "  0%|          | 0/3969 [00:00<?, ?it/s]"
      ]
     },
     "metadata": {},
     "output_type": "display_data"
    },
    {
     "name": "stdout",
     "output_type": "stream",
     "text": [
      "loading annotations into memory...\n",
      "Done (t=0.02s)\n",
      "creating index...\n",
      "index created!\n"
     ]
    },
    {
     "data": {
      "application/vnd.jupyter.widget-view+json": {
       "model_id": "5065420039864b72aa6d03ecfd99e0dd",
       "version_major": 2,
       "version_minor": 0
      },
      "text/plain": [
       "  0%|          | 0/7680 [00:00<?, ?it/s]"
      ]
     },
     "metadata": {},
     "output_type": "display_data"
    },
    {
     "name": "stdout",
     "output_type": "stream",
     "text": [
      "loading annotations into memory...\n",
      "Done (t=0.01s)\n",
      "creating index...\n",
      "index created!\n"
     ]
    },
    {
     "data": {
      "application/vnd.jupyter.widget-view+json": {
       "model_id": "3fe234a70f134047a40b3741b87ad2c1",
       "version_major": 2,
       "version_minor": 0
      },
      "text/plain": [
       "  0%|          | 0/2599 [00:00<?, ?it/s]"
      ]
     },
     "metadata": {},
     "output_type": "display_data"
    },
    {
     "name": "stdout",
     "output_type": "stream",
     "text": [
      "loading annotations into memory...\n",
      "Done (t=0.02s)\n",
      "creating index...\n",
      "index created!\n"
     ]
    },
    {
     "data": {
      "application/vnd.jupyter.widget-view+json": {
       "model_id": "ff0bfb0f56b94835be15e5d0a1f402d6",
       "version_major": 2,
       "version_minor": 0
      },
      "text/plain": [
       "  0%|          | 0/5223 [00:00<?, ?it/s]"
      ]
     },
     "metadata": {},
     "output_type": "display_data"
    }
   ],
   "source": [
    "for gt in gts:\n",
    "    gt = COCO(gt)\n",
    "    cats = {_: i for i, _ in enumerate(gt.cats)}\n",
    "    for img_id in tqdm(gt.imgs):\n",
    "        anns = []\n",
    "        ann_ids = gt.getAnnIds(imgIds = [img_id])\n",
    "        label_name = os.path.join(root, \"labels\", gt.imgs[img_id][\"file_name\"][:-4] + \".txt\")\n",
    "        os.system(f\"mkdir -p {os.path.dirname(label_name)}\")\n",
    "        for ann_id in ann_ids:\n",
    "            ann = gt.anns[ann_id]\n",
    "            anns.append([cats[ann[\"category_id\"]], *ann[\"bbox\"]])\n",
    "        if len(anns) > 0:\n",
    "            anns = pd.DataFrame(anns)\n",
    "            anns.iloc[:,[1,3]] /= gt.imgs[img_id][\"width\"]\n",
    "            anns.iloc[:,[2,4]] /= gt.imgs[img_id][\"height\"]\n",
    "            anns.iloc[:,[1,2]] += np.array(anns.iloc[:,[3,4]] / 2)\n",
    "            anns.to_csv(label_name, index = False, header = False, sep = \" \")\n",
    "        else:\n",
    "            os.system(f\"touch {label_name}\")\n"
   ]
  },
  {
   "cell_type": "code",
   "execution_count": 10,
   "metadata": {},
   "outputs": [
    {
     "name": "stdout",
     "output_type": "stream",
     "text": [
      "loading annotations into memory...\n",
      "Done (t=0.02s)\n",
      "creating index...\n",
      "index created!\n",
      "loading annotations into memory...\n",
      "Done (t=0.13s)\n",
      "creating index...\n",
      "index created!\n",
      "loading annotations into memory...\n",
      "Done (t=0.01s)\n",
      "creating index...\n",
      "index created!\n",
      "loading annotations into memory...\n",
      "Done (t=0.01s)\n",
      "creating index...\n",
      "index created!\n",
      "loading annotations into memory...\n",
      "Done (t=0.01s)\n",
      "creating index...\n",
      "index created!\n"
     ]
    }
   ],
   "source": [
    "import yaml\n",
    "os.system(f\"mkdir -p {os.path.join(root, 'yolos')}\")\n",
    "for gt in gts:\n",
    "    with open(os.path.join(root, \"yolos\", os.path.basename(gt).replace(\"json\", \"txt\")), \"w\") as f:\n",
    "        gt = COCO(gt)\n",
    "        for img in gt.imgs.values():\n",
    "            img_path = os.path.join(root, \"images\", img[\"file_name\"])\n",
    "            f.write(img_path + \"\\n\")\n",
    "\n",
    "for fold in range(5):\n",
    "    data = {\n",
    "        \"train\": [os.path.join(root, \"yolos\", f\"fold_{_}.txt\") for _ in range(5) if _ != fold],\n",
    "        \"val\": os.path.join(root, \"yolos\", f\"fold_{fold}.txt\"),\n",
    "\n",
    "        \"nc\": len(gt.cats),\n",
    "        \"names\": [_['name'] for _ in gt.cats.values()]\n",
    "    }\n",
    "    with open(os.path.join(root, \"yolos\", f\"fold_{fold}.yaml\"), \"w\") as f:\n",
    "        yaml.dump(data, f)\n",
    "            \n",
    "    "
   ]
  }
 ],
 "metadata": {
  "interpreter": {
   "hash": "51c2cb435fa0799f3ff026ddb2c58ef3b6978376f36f8014d18ac4076afd62d9"
  },
  "kernelspec": {
   "display_name": "Python 3.8.8 64-bit ('torch': conda)",
   "name": "python3"
  },
  "language_info": {
   "codemirror_mode": {
    "name": "ipython",
    "version": 3
   },
   "file_extension": ".py",
   "mimetype": "text/x-python",
   "name": "python",
   "nbconvert_exporter": "python",
   "pygments_lexer": "ipython3",
   "version": "3.8.8"
  }
 },
 "nbformat": 4,
 "nbformat_minor": 5
}
